{
 "cells": [
  {
   "cell_type": "code",
   "execution_count": null,
   "metadata": {
    "id": "ALGVF4umn2NO"
   },
   "outputs": [],
   "source": [
    "!pip install langdetect\n",
    "!pip install tqdm\n"
   ]
  },
  {
   "cell_type": "code",
   "execution_count": null,
   "metadata": {
    "id": "EPDUVo_voDqB"
   },
   "outputs": [],
   "source": [
    "from google.colab import drive\n",
    "drive.mount('/content/drive')"
   ]
  },
  {
   "cell_type": "code",
   "execution_count": null,
   "metadata": {
    "id": "3ncnJ8M4F_Bd"
   },
   "outputs": [],
   "source": [
    "import pandas as pd\n",
    "import numpy as np\n",
    "import matplotlib.pyplot as plt\n",
    "from langdetect import detect\n"
   ]
  },
  {
   "cell_type": "markdown",
   "metadata": {
    "id": "-camy5-BgCz2"
   },
   "source": [
    "\n",
    "# Initial Data Processing\n",
    "## Train data = Unsupervised data\n",
    "The preprocessing begins by loading `train_data` from `data_unsupervised.csv`. Duplicate entries are removed to ensure data uniqueness.\n"
   ]
  },
  {
   "cell_type": "code",
   "execution_count": null,
   "metadata": {
    "id": "5K9NMjVCGcX_"
   },
   "outputs": [],
   "source": [
    "data_unsupervised_path = '/content/drive/MyDrive/reddit/data_unsupervised.csv'\n",
    "\n",
    "train_data = pd.read_csv(data_unsupervised_path, encoding=\"utf8\")\n",
    "train_data = train_data.drop_duplicates()\n",
    "train_data.reset_index(drop=True, inplace=True)\n"
   ]
  },
  {
   "cell_type": "code",
   "execution_count": null,
   "metadata": {
    "id": "e7i1ehbvn2NT"
   },
   "outputs": [],
   "source": [
    "train_data.tail()"
   ]
  },
  {
   "cell_type": "markdown",
   "metadata": {
    "id": "816Eimc0vGwT"
   },
   "source": [
    "\n",
    "Subsequently, if empty fields are detected, they are dropped.\n"
   ]
  },
  {
   "cell_type": "code",
   "execution_count": null,
   "metadata": {
    "id": "HyuLPA91fZpb"
   },
   "outputs": [],
   "source": [
    "train_data = train_data.dropna()\n",
    "\n"
   ]
  },
  {
   "cell_type": "markdown",
   "metadata": {
    "id": "-mFsVkqGhrhE"
   },
   "source": [
    "## Language Detection and Text Processing\n",
    "\n",
    "In the preprocessing pipeline, each comment's language is identified, filtering out non-English comments to focus the analysis on English ones. English comments are then normalized (converted to lowercase), lemmatized, and stripped of stop words using spaCy, thus refining the text for effective feature extraction.\n",
    "\n"
   ]
  },
  {
   "cell_type": "code",
   "execution_count": null,
   "metadata": {
    "id": "q6cx99Okn2Nc"
   },
   "outputs": [],
   "source": [
    "import pickle\n",
    "with open('languages.pkl', 'rb') as file:\n",
    "    languages = pickle.load(file)\n",
    "\n",
    "with open('errors_rows.pkl', 'rb') as file:\n",
    "    errors_rows = pickle.load(file)\n"
   ]
  },
  {
   "cell_type": "code",
   "execution_count": null,
   "metadata": {
    "id": "tlFTqJWmn2Nd"
   },
   "outputs": [],
   "source": [
    "english_comments = languages.count('en')\n",
    "total_comments = len(languages)"
   ]
  },
  {
   "cell_type": "code",
   "execution_count": null,
   "metadata": {
    "id": "L092nOng95Lc"
   },
   "outputs": [],
   "source": [
    "train_data['language'] = languages\n",
    "train_data_en = train_data[train_data['language'] == 'en']\n"
   ]
  },
  {
   "cell_type": "code",
   "execution_count": null,
   "metadata": {
    "id": "fWmP48ZncSsy"
   },
   "outputs": [],
   "source": [
    "train_data_en['body'] = train_data_en['body'].str.lower()\n",
    "train_data_en.shape"
   ]
  },
  {
   "cell_type": "code",
   "execution_count": null,
   "metadata": {
    "id": "fPYUDoPnLPTz"
   },
   "outputs": [],
   "source": [
    "import spacy\n",
    "import pandas as pd\n",
    "from sklearn.feature_extraction.text import CountVectorizer, TfidfTransformer\n",
    "from sklearn.decomposition import TruncatedSVD\n",
    "from scipy import sparse\n",
    "from sklearn.utils import shuffle\n",
    "\n",
    "# Load spaCy's English language model\n",
    "nlp = spacy.load('en_core_web_sm', disable=['parser', 'ner'])\n",
    "\n",
    "# Function to preprocess text: remove stop words and lemmatize (reduce to root or bas form)\n",
    "def preprocess_text(texts):\n",
    "    processed_texts = []\n",
    "    for doc in nlp.pipe(texts):\n",
    "        tokens = [token.lemma_ for token in doc if not token.is_stop]\n",
    "        processed_texts.append(tokens)  # Append the list of tokens\n",
    "    return processed_texts\n",
    "\n",
    "# apply to comments\n",
    "train_data_en['body'] = preprocess_text(train_data_en['body'])"
   ]
  },
  {
   "cell_type": "markdown",
   "metadata": {
    "id": "4bg4W80dw9rP"
   },
   "source": [
    "## Language Models exploration\n",
    "\n",
    "In this segment, transfer learning is applied using the pre-trained language model **Doc2Vec**. `tagged_data` iterates through the comments in the 'body' column of the `train_data_en` DataFrame, assigns a unique tag (the index 'i') to each comment, and creates a TaggedDocument instance for each comment with its corresponding tag and the tokenized words.\n",
    "Following this, the model is initialized, its vocabulary is constructed, and the model is subjected to training."
   ]
  },
  {
   "cell_type": "code",
   "execution_count": null,
   "metadata": {
    "id": "kg5sq6UGfk4l"
   },
   "outputs": [],
   "source": [
    "from gensim.models.doc2vec import TaggedDocument\n",
    "\n",
    "tagged_data = [TaggedDocument(words=words, tags=[str(i)]) for i, words in enumerate(train_data_en['body'])]\n",
    "\n",
    "from gensim.models import Doc2Vec\n",
    "\n",
    "\n",
    "start_alpha = 0.025\n",
    "end_alpha = 0.0001\n",
    "model = Doc2Vec(vector_size=200, window=10, min_count=5, workers=4, alpha=start_alpha, min_alpha=end_alpha)\n",
    "\n",
    "model.build_vocab(tagged_data)\n",
    "\n",
    "# Train\n",
    "for epoch in range(30):\n",
    "    print('iteration {0}'.format(epoch))\n",
    "    model.alpha = start_alpha - (start_alpha - end_alpha) * (epoch / 10)\n",
    "    model.min_alpha = model.alpha\n",
    "    model.train(tagged_data, total_examples=model.corpus_count, epochs=1)\n",
    "\n",
    "model.save(\"doc2vec_model\")\n",
    "\n"
   ]
  },
  {
   "cell_type": "markdown",
   "metadata": {
    "id": "7gZkdyYqMnA-"
   },
   "source": [
    "## Supervised Data\n",
    "\n",
    "Now the supervised data is subjected to preprocessing as in Section 1. This is a key process for the upcoming actions: *Feature extraction* and *Dimensionality reduction*"
   ]
  },
  {
   "cell_type": "code",
   "execution_count": null,
   "metadata": {
    "id": "CldEJL3DzXaO"
   },
   "outputs": [],
   "source": [
    "supervised_data = pd.read_csv('/content/drive/MyDrive/reddit/data_supervised.csv', encoding=\"utf8\")\n",
    "supervised_data = supervised_data.drop_duplicates()\n",
    "supervised_data.reset_index(drop=True, inplace=True)\n",
    "\n",
    "target = pd.read_csv(\"/content/drive/MyDrive/reddit/target_supervised.csv\")\n",
    "target=target.drop_duplicates()\n",
    "target.reset_index(drop=True,inplace=True)\n",
    "\n",
    "print(supervised_data.tail())\n",
    "print(target.head())\n",
    "\n",
    "supervised_data['language'] = languages\n",
    "supervised_data_en = supervised_data[supervised_data['language'] == 'en']\n",
    "supervised_data_en['body'] = supervised_data_en['body'].str.lower()\n",
    "\n",
    "supervised_data_en['body'] = preprocess_text(supervised_data_en['body'])\n",
    "\n"
   ]
  },
  {
   "cell_type": "markdown",
   "metadata": {
    "id": "UjGNOSm20zdk"
   },
   "source": [
    "\n",
    "## Feature Extraction and Vectorization\n",
    "\n",
    "1.   The unique subreddits are extracted and a numerical mapping is created.\n",
    "This mapping is used later to convert subreddit names into numerical format.\n",
    "2.   The function `extract_features` takes a group of data associated with a specific author and extracts features related to their subreddit activities.\n",
    "For each author, a binary vector is created, indicating the subreddits they have commented in. Each position in the vector corresponds to a subreddit, and it is marked as 1 if the author has commented in that subreddit.\n",
    "The function utilizes a sparse matrix `v` to efficiently represent the binary vector.\n",
    "3.   We group the `supervised_data_en` by author and apply the function `extract_features`. This results is a dictionary where each author's identifier is associated with their corresponding sparse matrix representing subreddit activity.\n",
    "4.       The final step involves combining the individual author features into a single sparse matrix named X. This matrix represents the subreddit features for all authors in the dataset.\n",
    "The combination is achieved by vertically stacking the sparse matrices corresponding to each author's subreddit activity.\n",
    "\n",
    "\n",
    "\n"
   ]
  },
  {
   "cell_type": "code",
   "execution_count": null,
   "metadata": {
    "id": "M5lxBLijPz0Y"
   },
   "outputs": [],
   "source": [
    "# Feature Extraction Process\n",
    "\n",
    "# 1. Extracting unique subreddits and creating a numerical mapping:\n",
    "subreddits = supervised_data.subreddit.unique()\n",
    "subreddits_map = pd.Series(index=subreddits, data=np.arange(subreddits.shape[0]))\n",
    "\n",
    "# 2. Function to extract subreddit features for each author:\n",
    "from scipy import sparse\n",
    "def extract_features(group):\n",
    "    group_subreddits = group['subreddit']\n",
    "    group_subreddits = group_subreddits[group_subreddits.isin(subreddits_map.index)].values\n",
    "    idxs = subreddits_map.loc[group_subreddits].values\n",
    "    v = sparse.dok_matrix((1, subreddits.shape[0]))\n",
    "    for idx in idxs:\n",
    "        if not np.isnan(idx):\n",
    "            v[0, idx] = 1\n",
    "    return v.tocsr()\n",
    "\n",
    "# 3. Building feature vectors for each author\n",
    "features_dict = {}\n",
    "for author in target['author']:\n",
    "    group = supervised_data_en[supervised_data_en['author'] == author]\n",
    "    features_dict[author] = extract_features(group)\n",
    "\n",
    "# 4. Combining individual author features into a single matrix\n",
    "# This matrix, X, contains the subreddit features for all authors in the dataset.\n",
    "X = sparse.vstack([features_dict[author] for author in target['author']])\n",
    "\n",
    "\n",
    "\n"
   ]
  },
  {
   "cell_type": "markdown",
   "metadata": {
    "id": "ZhX1351FZINt"
   },
   "source": [
    "In this step, for each author, the code aggregates all the tokens from the 'body' column into a single list named `aggregated_tokens`. After consolidating tokens for each author, a list named `author_text` is generated to hold the collected words for each author in the *target* dataset."
   ]
  },
  {
   "cell_type": "code",
   "execution_count": null,
   "metadata": {
    "id": "yv7SXZqo9lKl"
   },
   "outputs": [],
   "source": [
    "text_dict = {}\n",
    "for author, group in supervised_data.groupby('author'):\n",
    "    aggregated_tokens = []\n",
    "    for text in group['body']:\n",
    "        aggregated_tokens.extend(text)  # Append tokens to the list\n",
    "    text_dict[author] = aggregated_tokens\n",
    "\n",
    "\n",
    "\n",
    "author_text = [text_dict[author] for author in target.author]"
   ]
  },
  {
   "cell_type": "markdown",
   "metadata": {
    "id": "U6zxV77dichf"
   },
   "source": [
    "\n",
    "## Dimensionality Reduction with Truncated SVD\n",
    "\n",
    "To handle the large number of features, we apply Truncated Singular Value Decomposition (SVD) to the sparse matrix `X`, which contains the subreddit features for all authors in the dataset. After reducing the dimensions, we compute and display the cumulative explained variance. This metric quantifies how much information is retained in the reduced dataset, helping assess the effectiveness of dimensionality reduction.\n"
   ]
  },
  {
   "cell_type": "code",
   "execution_count": null,
   "metadata": {
    "colab": {
     "base_uri": "https://localhost:8080/",
     "height": 472
    },
    "id": "oYM_4KeLn2Ng",
    "outputId": "761c7fa9-5478-4f6f-934a-14d6885b493a"
   },
   "outputs": [
    {
     "data": {
      "image/png": "[encoded data removed]",
      "text/plain": [
       "<Figure size 640x480 with 1 Axes>"
      ]
     },
     "metadata": {},
     "output_type": "display_data"
    }
   ],
   "source": [
    "from sklearn.decomposition import TruncatedSVD\n",
    "import matplotlib.pyplot as plt\n",
    "\n",
    "\n",
    "\n",
    "n_components=1500\n",
    "svd = TruncatedSVD(n_components=n_components)\n",
    "user_subreddit_svd = svd.fit_transform(X)\n",
    "\n",
    "# Calculate cumulative explained variance\n",
    "explained_variances = svd.explained_variance_ratio_\n",
    "\n",
    "\n",
    "# Plot the cumulative explained variance\n",
    "plt.plot(range(1,n_components+1), explained_variances.cumsum(), marker=None)\n",
    "plt.title('Cumulative Explained Variance vs. Number of Components')\n",
    "plt.xlabel('Number of Components')\n",
    "plt.ylabel('Cumulative Explained Variance')\n",
    "plt.grid(True)\n",
    "plt.show()\n"
   ]
  },
  {
   "cell_type": "code",
   "execution_count": null,
   "metadata": {
    "colab": {
     "base_uri": "https://localhost:8080/"
    },
    "id": "Q_Hi_YHk_rCk",
    "outputId": "cf624aac-f1ab-4569-f698-7979b4e1a18b"
   },
   "outputs": [
    {
     "name": "stdout",
     "output_type": "stream",
     "text": [
      "Cumulative explained variance for 1000 components: 0.9281272066029572\n"
     ]
    }
   ],
   "source": [
    "n_components = 1000\n",
    "svd = TruncatedSVD(n_components=n_components)\n",
    "X_reduced = svd.fit_transform(X)\n",
    "explained_variance = svd.explained_variance_ratio_.sum()\n",
    "print(f\"Cumulative explained variance for {n_components} components: {explained_variance}\")\n"
   ]
  },
  {
   "cell_type": "markdown",
   "metadata": {
    "id": "FJiRznXHdc98"
   },
   "source": [
    "# Concatenation of feature vectors\n",
    "Now we must combine the features obtained from two different sources: the reduced subreddit features (from Truncated SVD) and the Doc2Vec features.\n",
    "\n",
    "\n",
    "1.   For each author in the target dataset, we use the pre-trained mdoel to infer a numerical vector representation (infer_vector) based on the aggregated tokens associated with that author.\n",
    "The resulting vectors are collected into a NumPy array named `doc2vec_features`.\n",
    "2.   `X_reduced`  contains the reduced subreddit features obtained after applying Truncated SVD.\n",
    "Using np.hstack, we horizontally stack the reduced subreddit features and the Doc2Vec features.\n",
    "The result is a new feature matrix named `X_final`.\n"
   ]
  },
  {
   "cell_type": "code",
   "execution_count": null,
   "metadata": {
    "id": "h6Re1juJ6Y7M"
   },
   "outputs": [],
   "source": [
    "doc2vec_features = np.array([model.infer_vector(text_dict[author]) for author in target['author']])"
   ]
  },
  {
   "cell_type": "code",
   "execution_count": null,
   "metadata": {
    "id": "tcJsp0C7933_"
   },
   "outputs": [],
   "source": [
    "\n",
    "X_final = np.hstack([X_reduced, doc2vec_features])"
   ]
  },
  {
   "cell_type": "code",
   "execution_count": null,
   "metadata": {
    "colab": {
     "base_uri": "https://localhost:8080/"
    },
    "id": "UR9YSO8Z-HCq",
    "outputId": "2238898d-7f48-4c5b-a7fe-b692e3c2054c"
   },
   "outputs": [
    {
     "data": {
      "text/plain": [
       "(5000, 2000)"
      ]
     },
     "execution_count": 74,
     "metadata": {},
     "output_type": "execute_result"
    }
   ],
   "source": [
    "X_final.shape"
   ]
  },
  {
   "cell_type": "markdown",
   "metadata": {
    "id": "0uL_JWY1f537"
   },
   "source": [
    "\n",
    "\n",
    "In this code, SMOTE is applied to the combined feature matrix (`X_final`) along with the corresponding gender labels (`target['gender']`). This step contributes to addressing the imbalance in the dataset (as in Section 1), ensuring a more equitable representation of different gender classes in the training data."
   ]
  },
  {
   "cell_type": "code",
   "execution_count": null,
   "metadata": {
    "id": "AZy1ydNEBQQg"
   },
   "outputs": [],
   "source": [
    "from imblearn.over_sampling import SMOTE\n",
    "\n",
    "smote = SMOTE()\n",
    "X_smote, y_smote = smote.fit_resample(X_final, target['gender'])\n"
   ]
  },
  {
   "cell_type": "markdown",
   "metadata": {
    "id": "Mn5g05ECDaDW"
   },
   "source": [
    "# Model training\n",
    "This section involves training the model on the supervised over-sampled data, with the aim of fine tuning the last layer of the network.\n",
    "The neural network architecture, implemented using TensorFlow and Keras libraries, consists of the following components:\n",
    "\n",
    "- A dense input layer featuring 128 neurons, employing the ReLU activation function.\n",
    "- An output layer with a single neuron utilizing the sigmoid activation function, designed for binary classification.\n",
    "\n",
    "For optimization, the Adam optimizer with a learning rate of 0.0001 was selected. The model was compiled with binary cross-entropy loss and binary accuracy as evaluation metrics.\n",
    "\n",
    "The data was divided into training (70%) and validation (30%) sets. The model underwent 100 training epochs, utilizing both datasets for iterative learning and performance assessment."
   ]
  },
  {
   "cell_type": "code",
   "execution_count": null,
   "metadata": {
    "id": "lPa15FJW-b9V"
   },
   "outputs": [],
   "source": [
    "from sklearn.model_selection import train_test_split\n",
    "\n",
    "X_train, X_val, y_train, y_val = train_test_split(X_smote, y_smote, test_size=0.3, random_state=42)\n"
   ]
  },
  {
   "cell_type": "code",
   "execution_count": null,
   "metadata": {
    "id": "iRyHO_wa-mzK"
   },
   "outputs": [],
   "source": [
    "import tensorflow as tf\n",
    "from tensorflow.keras.models import Sequential\n",
    "from tensorflow.keras.layers import Dense\n",
    "\n",
    "\n",
    "\n",
    "model_final = Sequential()\n",
    "model_final.add(Dense(128, activation='relu', input_shape=(X_train.shape[1],)))\n",
    "model_final.add(Dense(1, activation='sigmoid'))\n",
    "\n",
    "adam=tf.keras.optimizers.Adam(learning_rate=0.0001)\n",
    "model_final.compile(optimizer=adam, loss='binary_crossentropy', metrics=['binary_accuracy'])\n",
    "\n",
    "\n",
    "history = model_final.fit(X_train, y_train, epochs=100, validation_data=(X_val, y_val))\n"
   ]
  },
  {
   "cell_type": "markdown",
   "metadata": {
    "id": "3lpb2MPnhoHp"
   },
   "source": [
    "## Optimal stopping point\n",
    "To prevent overfitting and determine the optimal stopping point, we monitored the validation loss throughout the training process. The marked point on the plot corresponds to the epoch with the minimum validation loss, which is identified as the optimal stopping point for training. In both accuracy and loss plots, the red marker indicates the epoch where the model achieves the best performance on the validation dataset."
   ]
  },
  {
   "cell_type": "code",
   "execution_count": null,
   "metadata": {
    "id": "tQ_Y-l2gKCVO"
   },
   "outputs": [],
   "source": [
    "import matplotlib.pyplot as plt\n",
    "\n",
    "\n",
    "val_loss = history.history['val_loss']\n",
    "min_val_loss_index = np.argmin(val_loss)\n",
    "min_val_loss_epoch = min_val_loss_index + 1\n",
    "min_val_loss_value = val_loss[min_val_loss_index]\n",
    "\n",
    "epoch_to_mark = min_val_loss_index\n",
    "\n",
    "y_offset = 0.02\n",
    "\n",
    "\n",
    "plt.figure(figsize=(12, 4))\n",
    "plt.subplot(1, 2, 1)\n",
    "plt.plot(history.history['binary_accuracy'])\n",
    "plt.plot(history.history['val_binary_accuracy'])\n",
    "plt.scatter(epoch_to_mark, history.history['val_binary_accuracy'][epoch_to_mark], color='red')  # Mark on the plot\n",
    "plt.text(epoch_to_mark-1, history.history['val_binary_accuracy'][epoch_to_mark]+y_offset, f' Epoch {epoch_to_mark + 1}', color='black')\n",
    "plt.title('Model Accuracy')\n",
    "plt.ylabel('Accuracy')\n",
    "plt.xlabel('Epoch')\n",
    "plt.legend(['Train', 'Val'], loc='upper left')\n",
    "\n",
    "y_offset = 0.04\n",
    "\n",
    "plt.subplot(1, 2, 2)\n",
    "plt.plot(history.history['loss'])\n",
    "plt.plot(history.history['val_loss'])\n",
    "plt.scatter(epoch_to_mark, history.history['val_loss'][epoch_to_mark], color='red')  # Mark on the plot\n",
    "plt.text(epoch_to_mark-1, history.history['val_loss'][epoch_to_mark]+y_offset, f' Epoch {epoch_to_mark + 1}', color='black')\n",
    "plt.title('Model Loss')\n",
    "plt.ylabel('Loss')\n",
    "plt.xlabel('Epoch')\n",
    "plt.legend(['Train', 'Val'], loc='upper left')\n",
    "\n",
    "plt.show()"
   ]
  }
 ],
 "metadata": {
  "accelerator": "GPU",
  "colab": {
   "gpuType": "T4",
   "machine_shape": "hm",
   "provenance": []
  },
  "kernelspec": {
   "display_name": "Python 3 (ipykernel)",
   "language": "python",
   "name": "python3"
  },
  "language_info": {
   "codemirror_mode": {
    "name": "ipython",
    "version": 3
   },
   "file_extension": ".py",
   "mimetype": "text/x-python",
   "name": "python",
   "nbconvert_exporter": "python",
   "pygments_lexer": "ipython3",
   "version": "3.7.12"
  }
 },
 "nbformat": 4,
 "nbformat_minor": 4
}
